{
 "cells": [
  {
   "cell_type": "markdown",
   "metadata": {},
   "source": [
    "<!-- dom:TITLE: Project 4, deadline  April 30 -->\n",
    "# Project 4, deadline  April 30\n",
    "<!-- dom:AUTHOR: Molecular Dynamics project -->\n",
    "<!-- Author: --> **Molecular Dynamics project**\n",
    "\n",
    "Date: **Spring semester 2017**\n",
    "\n",
    "## Theoretical background and description of the physical system\n",
    "In this project we will implement a model called molecular dynamics (MD). Molecular dynamics allows us to study the dynamics of atoms and explore the phase space. For those of you who are taking Thermal and Statistical Physics PHY410, this project could be an interesting choice, as well as the one on the Ising model. \n",
    "The atoms interact through a force given by the negative gradient of a potential energy function. With this force, we can integrate Newton's laws. While exploring the phase space, we will sample statistical properties of the system like energy, temperature, pressure, diffusion constant and so on.\n",
    "\n",
    "We will also learn how to do write object oriented code. You are given\n",
    "a code skeleton that contains the basic structure of an MD code, but\n",
    "you will have to implement many of the functions yourself. We think\n",
    "that *learn by example* is a great way to learn how to proper\n",
    "object orient your code, but you can of course start from scratch if\n",
    "you want. You can find the [code\n",
    "here](https://github.com/andeplane/molecular-dynamics-fys3150). You\n",
    "can clone or fork this repository into your own.  The class structure\n",
    "which you developed for project 3 can also be used again here, as well\n",
    "as the Velocity Verlet algorithm of project 3.\n",
    "\n",
    "\n",
    "After you have downloaded the repository, open the project in Qt\n",
    "Creator and see if it runs. The program should create 100 argon atoms\n",
    "and place them uniformly inside a cubic box with sides 10\n",
    "Angstroms. Each atom is given a velocity according to the\n",
    "Maxwell-Boltzmann distribution so that"
   ]
  },
  {
   "cell_type": "markdown",
   "metadata": {},
   "source": [
    "<!-- Equation labels as ordinary links -->\n",
    "<div id=\"_auto1\"></div>\n",
    "\n",
    "$$\n",
    "\\begin{equation} \n",
    "P(v_i)d\\mathrm{v}_i = \\left(\\frac{m}{2\\pi k_B\n",
    "T}\\right)^{1/2} \\exp\\left(-\\frac{m v_i^2}{2k_B T}\\right)d\\mathrm{v}_i,\n",
    "\\label{_auto1} \\tag{1}\n",
    "\\end{equation}\n",
    "$$"
   ]
  },
  {
   "cell_type": "markdown",
   "metadata": {},
   "source": [
    "where $m$ is the mass of the atom, $k_B$ is\n",
    "Boltzmann's constant and $T$ is the temperature. We recognize this as\n",
    "a normal distribution with zero mean and standard deviation $\\sigma =\n",
    "\\sqrt{k_B T/m}$. We recognize this also as the Boltzmann distribution $P(E) \\propto \\exp{(-\\beta E)}$, with $E = 0.5mv^2$.\n",
    "The program will evolve the system in time with no\n",
    "forces so that all atoms move in a straight line. It will create a\n",
    "file called *movie.xyz* containing all the timesteps ready to\n",
    "visualize with for example Ovito. You can download Ovito from this [site](http://www.ovito.org/index.php/download). You should start\n",
    "with the fun part - to look at the simulation in Ovito. We then\n",
    "strongly recommend that, before you start, you look at the code\n",
    "structure and try to understand how the different classes are\n",
    "connected to each other and how a typical timestep is computed. You\n",
    "can skip understanding the contents of *unitconverter.cpp* and *vec3.cpp*.\n",
    "\n",
    "\n",
    "\n",
    "## Before starting\n",
    "\n",
    "Before you start, we would like that you pay attention to the following two steps:\n",
    " 1. First, spend some 30 minutes figuring out what molecular dynamics is and which problems it can be applied to. What areas of physics can it be used in? What about chemistry and biology? What you find here should be part of the  introductory section in your report.\n",
    "\n",
    " 2. Then run the program, visualize the output with for example Ovito (as mentioned above). Now, spend some 30-60 minutes looking at the code and understand how the output is produced and try to understand every step in the code. The best way to do this is to start at the top of the *main()* function and follow every line and every function call, step by step. **As a part of your report, you should explain the code structure and draw a flow chart (a diagram showing how the program is executed).** This part is extremely important and will save you a lot of time. And of course, please ask us teachers if you have any questions!\n",
    "\n",
    "### Project 4a): Getting started\n",
    "\n",
    "When working with MD, the system size is usually limited by available computer resources. A typical large MD simulation (with a parallelized code) contains a few million atoms corresponding to a system much smaller than a cubic micron. In order to get rid of boundary effects, we usually apply periodic boundary conditions so that we simulate a system of infinite size. You need to implement the *applyPeriodicBoundaryConditions* function in the *System* class. After doing so, run the program again and notice how the atoms now are contained inside a box. Discuss the benefits of this strategy.\n",
    "\n",
    "### Project 4b): Velocity distribution\n",
    "\n",
    "The atoms are usually given velocities according to the Maxwell-Boltzmann distribution (you should discuss why this is the case) which will result in a nonzero net momentum in the system. Implement the *removeMomentum* function in the *System* class so that the net momentum is zero.\n",
    "\n",
    "### Project 4c): FCC lattice\n",
    "\n",
    "The atoms are now uniformly distributed in space. This is not very physical, so we should place the atoms in a crystal structure. When we later implement the Lennard-Jones potential, we will see that the face-centered cubic (FCC) lattice is a stable structure for the potential (it is actually the crystalline structure of argon). A lattice is built up by *unit cells* - a group of atoms - so that a larger system can be created by repeating these cells in space. An FCC lattice unit cell of size $b$ in Angstroms (this is the lattice constant) consists of four atoms with local coordinates"
   ]
  },
  {
   "cell_type": "markdown",
   "metadata": {},
   "source": [
    "<!-- Equation labels as ordinary links -->\n",
    "<div id=\"_auto2\"></div>\n",
    "\n",
    "$$\n",
    "\\begin{equation}\n",
    "\t\\mathbf{r}_1 = 0 \\hat{\\mathbf{i}} + 0 \\hat{\\mathbf{j}} + 0 \\hat{\\mathbf{k}},\n",
    "\\label{_auto2} \\tag{2}\n",
    "\\end{equation}\n",
    "$$"
   ]
  },
  {
   "cell_type": "markdown",
   "metadata": {},
   "source": [
    "<!-- Equation labels as ordinary links -->\n",
    "<div id=\"_auto3\"></div>\n",
    "\n",
    "$$\n",
    "\\begin{equation} \n",
    "\t\\mathbf{r}_2 = \\frac{b}{2} \\hat{\\mathbf{i}} + \\frac{b}{2} \\hat{\\mathbf{j}} + 0 \\hat{\\mathbf{k}},\n",
    "\\label{_auto3} \\tag{3}\n",
    "\\end{equation}\n",
    "$$"
   ]
  },
  {
   "cell_type": "markdown",
   "metadata": {},
   "source": [
    "<!-- Equation labels as ordinary links -->\n",
    "<div id=\"_auto4\"></div>\n",
    "\n",
    "$$\n",
    "\\begin{equation} \n",
    "\t\\mathbf{r}_3 = 0 \\hat{\\mathbf{i}} + \\frac{b}{2} \\hat{\\mathbf{j}} + \\frac{b}{2} \\hat{\\mathbf{k}},\n",
    "\\label{_auto4} \\tag{4}\n",
    "\\end{equation}\n",
    "$$"
   ]
  },
  {
   "cell_type": "markdown",
   "metadata": {},
   "source": [
    "<!-- Equation labels as ordinary links -->\n",
    "<div id=\"_auto5\"></div>\n",
    "\n",
    "$$\n",
    "\\begin{equation} \n",
    "\t\\mathbf{r}_4 = \\frac{b}{2} \\hat{\\mathbf{i}} + 0 \\hat{\\mathbf{j}} + \\frac{b}{2} \\hat{\\mathbf{k}}.\n",
    "\\label{_auto5} \\tag{5}\n",
    "\\end{equation}\n",
    "$$"
   ]
  },
  {
   "cell_type": "markdown",
   "metadata": {},
   "source": [
    "You can now create $N_x \\times N_y \\times N_z$ such unit cells next to each other to form a larger system so that the origin of unit cell $(i,j,k)$ is"
   ]
  },
  {
   "cell_type": "markdown",
   "metadata": {},
   "source": [
    "<!-- Equation labels as ordinary links -->\n",
    "<div id=\"_auto6\"></div>\n",
    "\n",
    "$$\n",
    "\\begin{equation}\n",
    "\t\\mathbf{R}_{i,j,k} = i \\hat{\\mathbf{u}}_1 + j \\hat{\\mathbf{u}}_2 + k \\hat{\\mathbf{u}}_3,\n",
    "\\label{_auto6} \\tag{6}\n",
    "\\end{equation}\n",
    "$$"
   ]
  },
  {
   "cell_type": "markdown",
   "metadata": {},
   "source": [
    "where $i=0,1,..., N_x-1, j=0,1,..., N_y-1, k=0,1,..., N_z-1$. The unit vectors of the unit cells are scaled with the lattice constant $b$ so that"
   ]
  },
  {
   "cell_type": "markdown",
   "metadata": {},
   "source": [
    "<!-- Equation labels as ordinary links -->\n",
    "<div id=\"_auto7\"></div>\n",
    "\n",
    "$$\n",
    "\\begin{equation}\n",
    "\t\\hat{\\mathbf{u}}_1 = b\\hat{\\mathbf{i}}, \\quad \\hat{\\mathbf{u}}_2 = b\\hat{\\mathbf{j}}, \\quad \\hat{\\mathbf{u}}_3 = b\\hat{\\mathbf{k}}.\n",
    "\\label{_auto7} \\tag{7}\n",
    "\\end{equation}\n",
    "$$"
   ]
  },
  {
   "cell_type": "markdown",
   "metadata": {},
   "source": [
    "Implement the function *createFCCLattice(int numberOfUnitCellsEachDimension, double latticeConstant)* in the *System* class. Remember to remove the 100 atoms that are created as the code is right now. Use lattice constant $b=5.26$ $\\mathrm{Angstrom}$. Remember to update the system size so the *applyPeriodicBoundaryConditions* function works properly. If you now visualize the result of the program, you should see the nice crystalline structure in the beginning of the simulation. What is the density $\\rho$ in your system?\n",
    "\n",
    "### Project 4d): Calculation of forces\n",
    "\n",
    "While this looks nice, we need to implement the computation of forces in order to see interesting physics. In this project, we will use the [Lennard-Jones potential](http://en.wikipedia.org/wiki/Lennard-Jones_potential)  which calculates the energy between two atoms $i$ and $j$ as"
   ]
  },
  {
   "cell_type": "markdown",
   "metadata": {},
   "source": [
    "<!-- Equation labels as ordinary links -->\n",
    "<div id=\"_auto8\"></div>\n",
    "\n",
    "$$\n",
    "\\begin{equation}\n",
    "\tU(r_{ij}) = 4\\epsilon\\left[\\left(\\frac{\\sigma}{r_{ij}}\\right)^{12} - \\left(\\frac{\\sigma}{r_{ij}}\\right)^6\\right],\n",
    "\\label{_auto8} \\tag{8}\n",
    "\\end{equation}\n",
    "$$"
   ]
  },
  {
   "cell_type": "markdown",
   "metadata": {},
   "source": [
    "where $r_{ij} = \\vert\\mathbf{r}_i - \\mathbf{r}_j\\vert$ is the distance from atom $i$ to atom $j$, $\\epsilon$ is the depth of the potential well (with dimension energy) and $\\sigma$ is the distance at which the potential is zero. For argon, optimal values of the parameters are:"
   ]
  },
  {
   "cell_type": "markdown",
   "metadata": {},
   "source": [
    "<!-- Equation labels as ordinary links -->\n",
    "<div id=\"_auto9\"></div>\n",
    "\n",
    "$$\n",
    "\\begin{equation}\n",
    "\t\\frac{\\epsilon}{k_B} = 119.8\\mathrm{K}, \\sigma=3.405 \\mathrm{Angstrom}.\n",
    "\\label{_auto9} \\tag{9}\n",
    "\\end{equation}\n",
    "$$"
   ]
  },
  {
   "cell_type": "markdown",
   "metadata": {},
   "source": [
    "In our code, we use the so called MD units (see the units definition at the end). This potential reproduces thermodynamic equilibrium properties that are in good agreement with experimental values for argon. The equation of state for this system is the van der Waals equation of state. Phases such as solid, liquid and gas are reproduced from this simple model with phase transitions and other properties as well with a  remarkable agreement with data.\n",
    "\n",
    "The total potential energy $V$ in the system is computed by summing over all pairs of atoms (counting each pair only once)"
   ]
  },
  {
   "cell_type": "markdown",
   "metadata": {},
   "source": [
    "<!-- Equation labels as ordinary links -->\n",
    "<div id=\"_auto10\"></div>\n",
    "\n",
    "$$\n",
    "\\begin{equation}\n",
    "\tV = \\sum_{i>j} U(r_{ij}).\n",
    "\\label{_auto10} \\tag{10}\n",
    "\\end{equation}\n",
    "$$"
   ]
  },
  {
   "cell_type": "markdown",
   "metadata": {},
   "source": [
    "The force is calculated by taking the negative gradient of the potential"
   ]
  },
  {
   "cell_type": "markdown",
   "metadata": {},
   "source": [
    "<!-- Equation labels as ordinary links -->\n",
    "<div id=\"_auto11\"></div>\n",
    "\n",
    "$$\n",
    "\\begin{equation}\n",
    "\t\\mathbf{F}(r_{ij}) = -\\nabla U(r_{ij}),\n",
    "\\label{_auto11} \\tag{11}\n",
    "\\end{equation}\n",
    "$$"
   ]
  },
  {
   "cell_type": "markdown",
   "metadata": {},
   "source": [
    "giving the $x$-component (the other components are calculated the same way)"
   ]
  },
  {
   "cell_type": "markdown",
   "metadata": {},
   "source": [
    "<!-- Equation labels as ordinary links -->\n",
    "<div id=\"_auto12\"></div>\n",
    "\n",
    "$$\n",
    "\\begin{equation}\n",
    "\tF_x(r_{ij}) = -\\frac{\\partial U}{\\partial r_{ij}}\\frac{\\partial r_{ij}}{\\partial x_{ij}},\n",
    "\\label{_auto12} \\tag{12}\n",
    "\\end{equation}\n",
    "$$"
   ]
  },
  {
   "cell_type": "markdown",
   "metadata": {},
   "source": [
    "where $x_{ij}$ is the $x$-component of $\\mathbf{r}_{ij}$.\n",
    "\n",
    "Calculate (analytically) the force and implement the *calculateForces* function in the LennardJones class, using the Velocity Verlet algorithm that you developed for project 3. You will have to take care of the periodic boundary conditions. You could use the minimum image convention as described [here](http://en.wikipedia.org/wiki/Periodic_boundary_conditions). Now run the simulation with 5 unit cells in each dimension (500 atoms) for different initial temperatures. Can you tell if the system is in a solid state just by looking at the system in Ovito? At what initial temperature is the crystal melting?\n",
    "\n",
    "### Project 4e): Kinetic and potential energies\n",
    "\n",
    "We now have a working Molecular dynamics code! The next step is to calculate some physical properties of the system. The easiest properties to measure are the kinetic and potential energy (calculated in the LennardJones class). The kinetic energy is defined as"
   ]
  },
  {
   "cell_type": "markdown",
   "metadata": {},
   "source": [
    "<!-- Equation labels as ordinary links -->\n",
    "<div id=\"_auto13\"></div>\n",
    "\n",
    "$$\n",
    "\\begin{equation}\n",
    "\tE_k = \\sum_{i=1}^{N_\\text{atoms}} \\frac{1}{2} m_i v_i^2,\n",
    "\\label{_auto13} \\tag{13}\n",
    "\\end{equation}\n",
    "$$"
   ]
  },
  {
   "cell_type": "markdown",
   "metadata": {},
   "source": [
    "where $m_i$ and $v_i$ is the mass and the speed of atom $i$. You can use the function *atom->velocity.lengthSquared()* to calculate the dot product of the velocities. \n",
    "\n",
    "You can also calculate an estimate of the temperature through the equipartition theorem, see for example D. Schroeder's *An Introduction to Thermal Physics* for details,"
   ]
  },
  {
   "cell_type": "markdown",
   "metadata": {},
   "source": [
    "<!-- Equation labels as ordinary links -->\n",
    "<div id=\"_auto14\"></div>\n",
    "\n",
    "$$\n",
    "\\begin{equation}\n",
    "\t\\langle E_k \\rangle = \\frac{3}{2}N_\\text{atoms} k_B T.\n",
    "\\label{_auto14} \\tag{14}\n",
    "\\end{equation}\n",
    "$$"
   ]
  },
  {
   "cell_type": "markdown",
   "metadata": {},
   "source": [
    "We can use this to define an *instantaneous* temperature"
   ]
  },
  {
   "cell_type": "markdown",
   "metadata": {},
   "source": [
    "<!-- Equation labels as ordinary links -->\n",
    "<div id=\"_auto15\"></div>\n",
    "\n",
    "$$\n",
    "\\begin{equation}\n",
    "\tT = \\frac{2}{3}\\frac{E_k}{N_\\text{atoms} k_B}.\n",
    "\\label{_auto15} \\tag{15}\n",
    "\\end{equation}\n",
    "$$"
   ]
  },
  {
   "cell_type": "markdown",
   "metadata": {},
   "source": [
    "All of these quantities should be calculated in the *StatisticsSampler* class. All the statistical quantities should be saved to a file which needs to be implemented in the *saveToFile* function in the same class. \n",
    "\n",
    "As you will see, since the temperature is proportional to the kinetic energy, its initial value will drop in the beginning when the system is initialized in the crystal structure. Why does this happen? What happens to the total energy? In order to have a system with final temperature $T$, what initial temperature $T_i$ is needed? What is the ratio $T/T_i$? Do multiple simulations with different random seeds and plot this ratio as a function of time. Again visualize with for example *Ovito* and try to determine at what temperature the system actually melts at. After the temperature drops, it will reach a more or less stable value. The system is then said to be in an equilibrium state.\n",
    "\n",
    "### Project 4f): Diffusion constant\n",
    "\n",
    "The last exercise is to compute the diffusion constant and use this to measure the melting temperature. We use the Einstein relation that relates the so called mean square displacement (MSD) to the diffusion constant"
   ]
  },
  {
   "cell_type": "markdown",
   "metadata": {},
   "source": [
    "<!-- Equation labels as ordinary links -->\n",
    "<div id=\"_auto16\"></div>\n",
    "\n",
    "$$\n",
    "\\begin{equation}\n",
    "\t\\langle r^2(t) \\rangle = 6Dt,\n",
    "\\label{_auto16} \\tag{16}\n",
    "\\end{equation}\n",
    "$$"
   ]
  },
  {
   "cell_type": "markdown",
   "metadata": {},
   "source": [
    "where $D$ is the diffusion constant, $t$ is time. The mean square displacement for atom $i$ is calculated as"
   ]
  },
  {
   "cell_type": "markdown",
   "metadata": {},
   "source": [
    "<!-- Equation labels as ordinary links -->\n",
    "<div id=\"_auto17\"></div>\n",
    "\n",
    "$$\n",
    "\\begin{equation}\n",
    "\tr_i^2(t) = |\\mathbf{r}_i(t) - \\mathbf{r}_i(0)|^2,\n",
    "\\label{_auto17} \\tag{17}\n",
    "\\end{equation}\n",
    "$$"
   ]
  },
  {
   "cell_type": "markdown",
   "metadata": {},
   "source": [
    "where $\\mathbf{r}_i(t)$ is the position of atom $i$ at time $t$. When you implement this you need to add the initial position as a new property in the *Atom* class. You also need to update the *applyPeriodicBoundaryConditions* so that $r_i^2(t)$ is the actual displacement as if no periodic boundary condition has occured. Why is this important?\n",
    "\n",
    "We can use the diffusion constant to find the melting temperature. Atoms in a solid will not diffuse much, meaning that a solid will have a diffusion constant close to zero. Now solve the Einstein relation for the diffusion constant $D$ and add a function in *StatisticsSampler* thats measures this quantity. Plot the diffusion constant as a function of temperature $T$ and use this to find an estimate for the melting temperature. Use what you found earlier  to make sure you simulate temperatures both above and below the melting temperature. Also remember not to use the initial temperature, but the measured temperature after the system has reached equilibrium. You can use the builtin *UnitConverter* to convert the temperature to SI units as illustrated in the top of the *main* function. \n",
    "\n",
    "\n",
    "# What is really going on here?\n",
    "The idea of an MD simulation is to sample microstates from a statistical ensemble. In our simulation, we have a constant number of atoms $N$, a constant volume $V$ and a (more or less, depending on our integrator) constant energy $E$. This corresponds to the microcanonical ensemble (NVE). \n",
    "\n",
    "Although we produce the dynamics of atoms, we should not see MD as a model that will give the true trajectories of the atoms, but rather a model that allows us to explore the phase space according to the probabilities we can calculate with statistical mechanics. A fundamental assumption in any MD simulation is the ergodic hypothesis. It states that *over long periods of time, the time spent by a system in some region of the phase space of microstates with the same energy is proportional to the volume of this region, i.e., that all accessible microstates are equiprobable over a long period of time*. This means that by evolving the atoms through time will visit microstates of the ensemble according to the true probabilities given by the ensemble.\n",
    "\n",
    "# Units\n",
    "\n",
    "The program uses by default a set of units. We have chosen the following four units"
   ]
  },
  {
   "cell_type": "markdown",
   "metadata": {},
   "source": [
    "<!-- Equation labels as ordinary links -->\n",
    "<div id=\"_auto18\"></div>\n",
    "\n",
    "$$\n",
    "\\begin{equation}\n",
    "\t\\text{1 unit of mass } = 1 \\text{ a.m.u} = 1.661\\times 10^{-27}\\mathrm{kg},\n",
    "\\label{_auto18} \\tag{18}\n",
    "\\end{equation}\n",
    "$$"
   ]
  },
  {
   "cell_type": "markdown",
   "metadata": {},
   "source": [
    "<!-- Equation labels as ordinary links -->\n",
    "<div id=\"_auto19\"></div>\n",
    "\n",
    "$$\n",
    "\\begin{equation} \n",
    "\t\\text{1 unit of length } = 1.0 \\mathrm{angstrom} = 1.0\\times 10^{-10}\\mathrm{m},\n",
    "\\label{_auto19} \\tag{19}\n",
    "\\end{equation}\n",
    "$$"
   ]
  },
  {
   "cell_type": "markdown",
   "metadata": {},
   "source": [
    "<!-- Equation labels as ordinary links -->\n",
    "<div id=\"_auto20\"></div>\n",
    "\n",
    "$$\n",
    "\\begin{equation} \n",
    "\t\\text{1 unit of energy } = 1.651\\times 10^{-21}\\mathrm{J},\n",
    "\\label{_auto20} \\tag{20}\n",
    "\\end{equation}\n",
    "$$"
   ]
  },
  {
   "cell_type": "markdown",
   "metadata": {},
   "source": [
    "<!-- Equation labels as ordinary links -->\n",
    "<div id=\"_auto21\"></div>\n",
    "\n",
    "$$\n",
    "\\begin{equation} \n",
    "\t\\text{1 unit of temperature} = 119.735\\mathrm{K}.\n",
    "\\label{_auto21} \\tag{21}\n",
    "\\end{equation}\n",
    "$$"
   ]
  },
  {
   "cell_type": "markdown",
   "metadata": {},
   "source": [
    "Boltzmann's constant is then equal to one (convince yourself about this), and other units can be derived by using known relations. We can for example find the unit of time by using $E=mc^2$. We have that"
   ]
  },
  {
   "cell_type": "markdown",
   "metadata": {},
   "source": [
    "<!-- Equation labels as ordinary links -->\n",
    "<div id=\"_auto22\"></div>\n",
    "\n",
    "$$\n",
    "\\begin{equation}\n",
    "\t\\text{Energy} = \\text{Mass} \\times \\frac{\\text{Length}^2}{\\text{Time}^2},\n",
    "\\label{_auto22} \\tag{22}\n",
    "\\end{equation}\n",
    "$$"
   ]
  },
  {
   "cell_type": "markdown",
   "metadata": {},
   "source": [
    "which can be solved for time"
   ]
  },
  {
   "cell_type": "markdown",
   "metadata": {},
   "source": [
    "<!-- Equation labels as ordinary links -->\n",
    "<div id=\"_auto23\"></div>\n",
    "\n",
    "$$\n",
    "\\begin{equation}\n",
    "\t\\text{Time} = \\text{Length} \\times \\sqrt{\\frac{\\text{Mass}}{\\text{Energy}}}.\n",
    "\\label{_auto23} \\tag{23}\n",
    "\\end{equation}\n",
    "$$"
   ]
  },
  {
   "cell_type": "markdown",
   "metadata": {},
   "source": [
    "By inserting the values above, we get"
   ]
  },
  {
   "cell_type": "markdown",
   "metadata": {},
   "source": [
    "<!-- Equation labels as ordinary links -->\n",
    "<div id=\"_auto24\"></div>\n",
    "\n",
    "$$\n",
    "\\begin{equation}\n",
    "\t\\text{1 unit of time } = 1.0 \\times 10^{-10}\\sqrt{\\frac{1.661\\times 10^{-27}}{1.651\\times 10^{-21}}} \\text{ s} = 1.00224\\times 10^{-13}\\mathrm{s}.\n",
    "\\label{_auto24} \\tag{24}\n",
    "\\end{equation}\n",
    "$$"
   ]
  },
  {
   "cell_type": "markdown",
   "metadata": {},
   "source": [
    "This way, we can continue working out the values of the other units. What are the units of force? And pressure? In the project, a class that calculates these values is given.\n",
    "\n",
    "\n",
    "\n",
    "\n",
    "\n",
    "\n",
    "## Introduction to numerical projects\n",
    "\n",
    "Here follows a brief recipe and recommendation on how to write a report for each\n",
    "project.\n",
    "\n",
    "  * Give a short description of the nature of the problem and the eventual  numerical methods you have used.\n",
    "\n",
    "  * Describe the algorithm you have used and/or developed. Here you may find it convenient to use pseudocoding. In many cases you can describe the algorithm in the program itself.\n",
    "\n",
    "  * Include the source code of your program. Comment your program properly.\n",
    "\n",
    "  * If possible, try to find analytic solutions, or known limits in order to test your program when developing the code.\n",
    "\n",
    "  * Include your results either in figure form or in a table. Remember to        label your results. All tables and figures should have relevant captions        and labels on the axes.\n",
    "\n",
    "  * Try to evaluate the reliabilty and numerical stability/precision of your results. If possible, include a qualitative and/or quantitative discussion of the numerical stability, eventual loss of precision etc.\n",
    "\n",
    "  * Try to give an interpretation of you results in your answers to  the problems.\n",
    "\n",
    "  * Critique: if possible include your comments and reflections about the  exercise, whether you felt you learnt something, ideas for improvements and  other thoughts you've made when solving the exercise. We wish to keep this course at the interactive level and your comments can help us improve it.\n",
    "\n",
    "  * Try to establish a practice where you log your work at the  computerlab. You may find such a logbook very handy at later stages in your work, especially when you don't properly remember  what a previous test version  of your program did. Here you could also record  the time spent on solving the exercise, various algorithms you may have tested or other topics which you feel worthy of mentioning.\n",
    "\n",
    "## Format for electronic delivery of report and programs\n",
    "\n",
    "The preferred format for the report is a PDF file. You can also use DOC or postscript formats or as an ipython notebook file.  As programming language we prefer that you choose between C/C++, Fortran2008 or Python. The following prescription should be followed when preparing the report:\n",
    "\n",
    "  * Use your github repository to upload your report. Indicate where the report is by creating for example a **Report** folder. Please send us as soon as possible your github username.\n",
    "\n",
    "  * Place your programs in a folder called for example **Programs** or **src**, in order to indicate where your programs are. You can use a README file to tell us how your github folders are organized. \n",
    "\n",
    "  * In your git repository, please include a folder which contains selected results. These can be in the form of output from your code for a selected set of runs and input parameters.\n",
    "\n",
    "  * In this and all later projects, you should include tests (for example unit tests) of your code(s).\n",
    "\n",
    "  * Comments  from us on your projects, with score and detailed feedback will be emailed to you. \n",
    "\n",
    "Finally, \n",
    "we encourage you to work two and two together. Optimal working groups consist of \n",
    "2-3 students. You can then hand in a common report."
   ]
  },
  {
   "cell_type": "code",
   "execution_count": 1,
   "metadata": {
    "collapsed": true
   },
   "outputs": [],
   "source": [
    "import math\n",
    "import random\n",
    "import numpy as np\n",
    "import matplotlib.pyplot as plt\n",
    "%matplotlib inline"
   ]
  },
  {
   "cell_type": "code",
   "execution_count": 2,
   "metadata": {
    "collapsed": false
   },
   "outputs": [],
   "source": [
    "class make_particle:\n",
    "# Accelerations are incomptabile with new functions in potential, change them\n",
    "    def __init__(self,name,x,y,z,vx,vy,vz):\n",
    "        self.name=name\n",
    "        self.x = x\n",
    "        self.y = y\n",
    "        self.z = z\n",
    "        self.vx = vx\n",
    "        self.vy = vy\n",
    "        self.vz = vz\n",
    "           \n",
    "    def acc(self,x,y,z):\n",
    "        pass\n",
    "    \n",
    "    def displacement(self,x,y,z):\n",
    "        return math.sqrt(x**2+y**2+z**2)\n",
    "    \n",
    "    def move(self,val,newval):\n",
    "        self.val=newval"
   ]
  },
  {
   "cell_type": "code",
   "execution_count": 131,
   "metadata": {
    "collapsed": false
   },
   "outputs": [
    {
     "name": "stdout",
     "output_type": "stream",
     "text": [
      "[-688.7867778230848, -232.1644400226267, 1.4014199701817367]\n"
     ]
    },
    {
     "data": {
      "image/png": "[encoded data removed]",
      "text/plain": [
       "<matplotlib.figure.Figure at 0x1beead524e0>"
      ]
     },
     "metadata": {},
     "output_type": "display_data"
    }
   ],
   "source": [
    "def initialize(number_particles):\n",
    "    \n",
    "    temperature=1\n",
    "    length=math.ceil(number_particles**(1/3))\n",
    "    if length%2==0:\n",
    "        length+=1\n",
    "    names={}\n",
    "    b=5.26\n",
    "    for x in range(0,length):\n",
    "        for y in range(0,length):\n",
    "            for z in range(0,length):\n",
    "                velocities=initial_velocity(temperature)\n",
    "                names[z+length*y+x*length**2]=[x,y,z,velocities[0],velocities[1],velocities[2]]\n",
    "    for i in names:\n",
    "        if i%2==0:\n",
    "            names=removekey(names,i)\n",
    "    return names\n",
    "\n",
    "names=initialize(1000)\n",
    "y=[]\n",
    "z=[]\n",
    "for item in names:\n",
    "    if names[item][0]==0:\n",
    "        y.append(names[item][1])\n",
    "        z.append(names[item][2])\n",
    "plt.scatter(y,z)\n",
    "#print(names)\n",
    "all_forces(names[3])"
   ]
  },
  {
   "cell_type": "markdown",
   "metadata": {
    "collapsed": true
   },
   "source": [
    "What we will have to do is that since we have initialized our set, we will have to exert a potential on it and actually write our information, preferably to a file, and use that changing position to calculate velocity and acceleration."
   ]
  },
  {
   "cell_type": "code",
   "execution_count": 11,
   "metadata": {
    "collapsed": true
   },
   "outputs": [],
   "source": [
    "def removekey(d, key):\n",
    "    r = dict(d)\n",
    "    del r[key]\n",
    "    return r"
   ]
  },
  {
   "cell_type": "code",
   "execution_count": 94,
   "metadata": {
    "collapsed": false
   },
   "outputs": [],
   "source": [
    "def initial_velocity(temperature):\n",
    "    '''This will give a random velocity for a given temperature using the boltzmann distribution'''\n",
    "    #Googled boltzmann distribution and found that wikipedia had a bunch of equations that told the\n",
    "    #average speed of an atom and then used the mean value and standard deviation of that into a\n",
    "    #gaussian, which returns a velocity within that range. This is not exactly like the boltzmann\n",
    "    #distribution, but it's close enough\n",
    "    \n",
    "    ar_molar_mass=36\n",
    "    R=8.31\n",
    "    \n",
    "    most_probable_speed=math.sqrt(2*R*temperature/ar_molar_mass)\n",
    "    standard_deviation=math.sqrt(3*temperature/ar_molar_mass)\n",
    "    mean_velocity=2/math.sqrt(math.pi)*most_probable_speed\n",
    "    velocity=np.random.normal(mean_velocity,standard_deviation)\n",
    "    \n",
    "    #This loop is to make sure the output velocity is never negative\n",
    "    \n",
    "    while velocity<0:\n",
    "        velocity=np.random.normal(mean_velocity,standard_deviation)\n",
    "        if velocity>=0:\n",
    "            break\n",
    "    \n",
    "    #This randomly distributes the velocity to the x, y and z directions\n",
    "    \n",
    "    x_rand_int=random.uniform(0,1)\n",
    "    y_rand_int=random.uniform(0,1)\n",
    "    z_rand_int=random.uniform(0,1)\n",
    "    \n",
    "    Tot_rand_ints=x_rand_int+y_rand_int+z_rand_int\n",
    "    \n",
    "    x_norm_vel=x_rand_int/Tot_rand_ints\n",
    "    y_norm_vel=y_rand_int/Tot_rand_ints\n",
    "    z_norm_vel=z_rand_int/Tot_rand_ints\n",
    "    \n",
    "    x_vel=math.sqrt(x_norm_vel)*velocity\n",
    "    y_vel=math.sqrt(y_norm_vel)*velocity\n",
    "    z_vel=math.sqrt(z_norm_vel)*velocity\n",
    "    \n",
    "    #Below is a check to make sure they all add up to a correct total velocity, which they do\n",
    "    \n",
    "    #thing=math.sqrt(x_vel**2+y_vel**2+z_vel**2)\n",
    "    #print(x_vel,y_vel,z_vel,thing,velocity)\n",
    "            \n",
    "    return [x_vel,y_vel,z_vel]\n",
    "    \n",
    "velocity=initial_velocity(10)"
   ]
  },
  {
   "cell_type": "code",
   "execution_count": 95,
   "metadata": {
    "collapsed": true
   },
   "outputs": [],
   "source": [
    "def force(subject, other,length):\n",
    "    '''This will use the potential given to give a force between two objects, if they are lists'''\n",
    "    \n",
    "    sigma = 3.405\n",
    "    epsilon = 1.0\n",
    "    dx,dy,dz=difference_distance(subject,other,length)\n",
    "    \n",
    "    #Specifically, everything will be done in 3 dimensions and put into a list because, they are\n",
    "    #the superior form of information storage\n",
    "    \n",
    "    if dx!=0:\n",
    "        force_x=-(24*epsilon)*(2*(sigma**12./dx**13.)-(sigma**6./dx**7.))\n",
    "    else:\n",
    "        force_x=0\n",
    "    if dy!=0:\n",
    "        force_y=-(24*epsilon)*(2*(sigma**12./dy**13.)-(sigma**6./dy**7.))\n",
    "    else:\n",
    "        force_y=0\n",
    "    if dz!=0:\n",
    "        force_z=-(24*epsilon)*(2*(sigma**12./dz**13.)-(sigma**6./dz**7.))\n",
    "    else:\n",
    "        force_z=0\n",
    "    \n",
    "    the_force=[force_x,force_y,force_z]\n",
    "    \n",
    "    return the_force"
   ]
  },
  {
   "cell_type": "code",
   "execution_count": 96,
   "metadata": {
    "collapsed": false
   },
   "outputs": [],
   "source": [
    "def boundary_conditions(other_index):\n",
    "    '''This will deal with boundary conditions'''\n",
    "    \n",
    "    length=11\n",
    "    x=math.floor(other_index/(length**2))\n",
    "    y=math.floor((other_index-x*length**2)/length)\n",
    "    z=math.floor(other_index-x*length**2-y*length)\n",
    "    \n",
    "    if x<0:\n",
    "        x+=length\n",
    "    elif x>length:\n",
    "        x-=length\n",
    "    if y<0:\n",
    "        y+=length\n",
    "    elif y>length:\n",
    "        y-=length\n",
    "    if z<0:\n",
    "        z+=length\n",
    "    elif z>length:\n",
    "        z-=length\n",
    "        \n",
    "    new_other_index=z*length**2+y*length+z\n",
    "    return new_other_index"
   ]
  },
  {
   "cell_type": "code",
   "execution_count": 130,
   "metadata": {
    "collapsed": true
   },
   "outputs": [],
   "source": [
    "def difference_distance(subject,other,length):\n",
    "    '''This will tell the distance between two objects in the lattice if they are lists'''\n",
    "    #Since we are evlauating the distance between 12 nearest neighbors, they will be equidistant from the subject of interest\n",
    "    b=5.26\n",
    "    dx=dy=dz=b/math.sqrt(2)\n",
    "    \n",
    "    other_index=other[0]*length**2+other[1]*length+other[2]\n",
    "    subject_index=subject[0]*length**2+subject[1]*length+subject[2]\n",
    "    \n",
    "    other_x=math.floor(other_index/(length**2))\n",
    "    other_y=math.floor((other_index-other_x*length**2)/length)\n",
    "    other_z=math.floor(other_index-other_x*length**2-other_y*length)\n",
    "    subject_x=math.floor(subject_index/(length**2))\n",
    "    subject_y=math.floor((subject_index-subject_x*length**2)/length)\n",
    "    subject_z=math.floor(subject_index-subject_x*length**2-subject_y*length)\n",
    "    \n",
    "    if other_x<subject_x or other_x>3+subject_x:\n",
    "        dx=-dx\n",
    "    if other_y<subject_y or other_y>3+subject_y:\n",
    "        dy=-dy\n",
    "    if other_z<subject_z or other_z>3+subject_z:\n",
    "        dz=-dz\n",
    "    \n",
    "    other_dx=other[0]-other_x\n",
    "    other_dy=other[1]-other_y\n",
    "    other_dz=other[2]-other_z\n",
    "    \n",
    "    dx+=other_dx\n",
    "    dy+=other_dy\n",
    "    dz+=other_dz\n",
    "    \n",
    "    return dx,dy,dz"
   ]
  },
  {
   "cell_type": "code",
   "execution_count": 103,
   "metadata": {
    "collapsed": false
   },
   "outputs": [],
   "source": [
    "def all_forces(subject):\n",
    "    '''This will use the force function to create a list with the sum of all forces from all objects'''\n",
    "    \n",
    "    subject_x,subject_y,subject_z=subject[0],subject[1],subject[2]\n",
    "    total_force=[0,0,0]\n",
    "    length=int(len(names)**(1/3))\n",
    "    \n",
    "    #We will be taking the 12 nearest neighbors\n",
    "#This is where I call the force function and actually do something, everything else here is to account\n",
    "#for boundary conditions and some wierd things that happened due to the way I coded this\n",
    "    for x in range(-2,3,2):\n",
    "        for y in range(-2,3,2):\n",
    "            for z in range(-2,3,2):\n",
    "                if x==0:\n",
    "                    if z==0 and y==0:\n",
    "                        continue\n",
    "                    elif z==0 or y==0:\n",
    "                        index = (subject_x+x)*length**2+(subject_y+y)*length+(subject_z+z)\n",
    "                    else:\n",
    "                        continue\n",
    "                else:\n",
    "                    if z!=0 and y!=0:\n",
    "                        index = (subject_x+x)*length**2+(subject_y+y)*length+(subject_z+z)\n",
    "                    else:\n",
    "                        continue\n",
    "                        \n",
    "                if index<0 or index>length**3:\n",
    "                    index=boundary_conditions(index)\n",
    "                try:\n",
    "                    single_force=force(subject,names[index],length)\n",
    "                except KeyError:\n",
    "                    index+=1\n",
    "                    single_force=force(subject,names[index],length)\n",
    "\n",
    "                total_force[0]+=single_force[0]\n",
    "                total_force[1]+=single_force[1]\n",
    "                total_force[2]+=single_force[2]\n",
    "    print(total_force)"
   ]
  },
  {
   "cell_type": "code",
   "execution_count": 93,
   "metadata": {
    "collapsed": true
   },
   "outputs": [],
   "source": [
    "def acceleration_from_force(total_force):\n",
    "    '''This just solves F=ma for a'''\n",
    "    m=36\n",
    "    acceleration=[]\n",
    "    \n",
    "    for item in total_force:\n",
    "        acceleration.append(item/m)\n",
    "    \n",
    "    return acceleration"
   ]
  },
  {
   "cell_type": "code",
   "execution_count": null,
   "metadata": {
    "collapsed": true
   },
   "outputs": [],
   "source": []
  }
 ],
 "metadata": {
  "anaconda-cloud": {},
  "kernelspec": {
   "display_name": "Python [default]",
   "language": "python",
   "name": "python3"
  },
  "language_info": {
   "codemirror_mode": {
    "name": "ipython",
    "version": 3
   },
   "file_extension": ".py",
   "mimetype": "text/x-python",
   "name": "python",
   "nbconvert_exporter": "python",
   "pygments_lexer": "ipython3",
   "version": "3.5.2"
  }
 },
 "nbformat": 4,
 "nbformat_minor": 0
}
